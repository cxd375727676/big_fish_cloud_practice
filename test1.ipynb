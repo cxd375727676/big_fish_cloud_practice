{
 "cells": [
  {
   "cell_type": "code",
   "execution_count": 1,
   "metadata": {},
   "outputs": [
    {
     "name": "stdout",
     "output_type": "stream",
     "text": [
      "boolean表示布尔类型，float表示浮点型，int表示整数型数据\n"
     ]
    }
   ],
   "source": [
    "#1.1\n",
    "print(\"boolean表示布尔类型，float表示浮点型，int表示整数型数据\")"
   ]
  },
  {
   "cell_type": "code",
   "execution_count": 2,
   "metadata": {},
   "outputs": [
    {
     "name": "stdout",
     "output_type": "stream",
     "text": [
      "50\n"
     ]
    }
   ],
   "source": [
    "#1.2\n",
    "def s(n):\n",
    "    if n==1:\n",
    "        return 1\n",
    "    elif n%2==1:\n",
    "        return s(n-1)+n\n",
    "    else:\n",
    "        return s(n-1)-n\n",
    "\n",
    "print(s(99))       "
   ]
  },
  {
   "cell_type": "code",
   "execution_count": 3,
   "metadata": {},
   "outputs": [
    {
     "data": {
      "text/plain": [
       "['y', 'o', 'y', 'o']"
      ]
     },
     "execution_count": 3,
     "metadata": {},
     "output_type": "execute_result"
    }
   ],
   "source": [
    "#1.3\n",
    "s=\"yoyo\"\n",
    "list(s)"
   ]
  },
  {
   "cell_type": "code",
   "execution_count": 4,
   "metadata": {},
   "outputs": [
    {
     "name": "stdout",
     "output_type": "stream",
     "text": [
      "72\n",
      "75\n",
      "78\n",
      "81\n",
      "84\n",
      "87\n",
      "90\n",
      "93\n",
      "96\n",
      "99\n"
     ]
    }
   ],
   "source": [
    "#2.1\n",
    "'''\n",
    "range(1,100)指的是1到99的连续整数: 1,2,3，...，98,99\n",
    "range(1,100)[2::3]即从上述整数中索引号为2（即整数3）开始步长为3的整数列：3,6,9，...，96,99\n",
    "range(1,100)[2::3][-10:]即从上述整数取最后十个： 72,75,78，...，96,99\n",
    "'''\n",
    "for i in range(1,100)[2::3][-10:]:\n",
    "    print(i)"
   ]
  },
  {
   "cell_type": "code",
   "execution_count": 5,
   "metadata": {},
   "outputs": [
    {
     "name": "stdout",
     "output_type": "stream",
     "text": [
      "{'one_diff': 8}\n",
      "{'two_diff': 46}\n"
     ]
    }
   ],
   "source": [
    "#2.2\n",
    "class Stock():\n",
    "    def __init__(self,time,high,low):\n",
    "        self.time=time\n",
    "        self.high=high\n",
    "        self.low=low\n",
    "    def cal_diff(self):\n",
    "        diff=self.high - self.low\n",
    "        return {self.time + \"_diff\" : diff}\n",
    "\n",
    "one=Stock(\"one\",15,7)\n",
    "two=Stock(\"two\",66,20)\n",
    "print(one.cal_diff())\n",
    "print(two.cal_diff())"
   ]
  },
  {
   "cell_type": "code",
   "execution_count": 6,
   "metadata": {},
   "outputs": [],
   "source": [
    "#3.1\n",
    "#假设df是pandas数据框\n",
    "#df.columns查看列名\n",
    "#df.T数据框转置"
   ]
  },
  {
   "cell_type": "code",
   "execution_count": 7,
   "metadata": {},
   "outputs": [
    {
     "name": "stdout",
     "output_type": "stream",
     "text": [
      "<class 'numpy.ndarray'>\n",
      "[15.08227205 15.2564044  15.44433088 15.72172526 15.96322976]\n"
     ]
    }
   ],
   "source": [
    "#3.2\n",
    "import pandas as pd\n",
    "import talib as ta\n",
    "df=pd.read_excel(\"sz50.xlsx\",sheet_name=\"600029.XSHG\",index_col=0)\n",
    "close=df.close.values\n",
    "print(type(close))\n",
    "ema=ta.EMA(close, timeperiod=10)\n",
    "print(ema[-5:])"
   ]
  },
  {
   "cell_type": "code",
   "execution_count": 8,
   "metadata": {},
   "outputs": [
    {
     "name": "stderr",
     "output_type": "stream",
     "text": [
      "C:\\Python\\lib\\site-packages\\IPython\\core\\interactiveshell.py:2961: FutureWarning: \n",
      "Panel is deprecated and will be removed in a future version.\n",
      "The recommended way to represent these types of 3-dimensional data are with a MultiIndex on a DataFrame, via the Panel.to_frame() method\n",
      "Alternatively, you can use the xarray package http://xarray.pydata.org/en/stable/.\n",
      "Pandas provides a `.to_xarray()` method to help automate this conversion.\n",
      "\n",
      "  exec(code_obj, self.user_global_ns, self.user_ns)\n"
     ]
    },
    {
     "data": {
      "text/plain": [
       "<class 'pandas.core.panel.Panel'>\n",
       "Dimensions: 3 (items) x 215 (major_axis) x 5 (minor_axis)\n",
       "Items axis: 600029.XSHG to 601318.XSHG\n",
       "Major_axis axis: 2017-01-03 15:00:00 to 2017-11-20 15:00:00\n",
       "Minor_axis axis: close to volume"
      ]
     },
     "execution_count": 8,
     "metadata": {},
     "output_type": "execute_result"
    }
   ],
   "source": [
    "#3.3\n",
    "stocks=['600029.XSHG','600050.XSHG','601318.XSHG']\n",
    "dic={stock:pd.read_excel(\"sz50.xlsx\",sheet_name=stock,index_col=0) for stock in stocks}\n",
    "pdata=pd.Panel(dic)\n",
    "pdata"
   ]
  },
  {
   "cell_type": "code",
   "execution_count": 9,
   "metadata": {
    "scrolled": true
   },
   "outputs": [
    {
     "name": "stdout",
     "output_type": "stream",
     "text": [
      "(3, 215, 5)\n",
      "[[ 13.85  13.82  13.83  14.11  14.25  14.39  15.1   15.15  15.22  14.97\n",
      "   14.89  14.99  14.71  15.07  15.35  16.    16.04  16.29  16.97  17.05]\n",
      " [  8.53   8.56   8.62   8.88   9.25   9.24   9.43   9.25   9.02   9.15\n",
      "    9.63   9.5    9.9    9.97   9.96   9.49   9.68   9.61   9.63   9.8 ]\n",
      " [134.83 134.56 137.5  143.18 143.48 144.15 143.61 143.65 144.35 143.36\n",
      "  146.41 144.71 148.56 156.53 157.12 157.72 154.99 163.52 168.58 169.57]]\n"
     ]
    }
   ],
   "source": [
    "#3.4\n",
    "import numpy as np\n",
    "arr=np.array(pdata)\n",
    "print(arr.shape)\n",
    "print(arr[:,-20:,0])"
   ]
  },
  {
   "cell_type": "code",
   "execution_count": 10,
   "metadata": {},
   "outputs": [
    {
     "name": "stdout",
     "output_type": "stream",
     "text": [
      "[[ 0  1  2  3  4]\n",
      " [ 5  6  7  8  9]\n",
      " [10 11 12 13 14]\n",
      " [15 16 17 18 19]\n",
      " [20 21 22 23 24]]\n"
     ]
    }
   ],
   "source": [
    "#3.5\n",
    "arr=np.arange(25).reshape(5,5)\n",
    "print(arr)"
   ]
  }
 ],
 "metadata": {
  "kernelspec": {
   "display_name": "Python 3",
   "language": "python",
   "name": "python3"
  },
  "language_info": {
   "codemirror_mode": {
    "name": "ipython",
    "version": 3
   },
   "file_extension": ".py",
   "mimetype": "text/x-python",
   "name": "python",
   "nbconvert_exporter": "python",
   "pygments_lexer": "ipython3",
   "version": "3.6.6"
  }
 },
 "nbformat": 4,
 "nbformat_minor": 2
}
